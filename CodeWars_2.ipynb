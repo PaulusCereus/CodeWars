{
 "cells": [
  {
   "cell_type": "code",
   "execution_count": 1,
   "id": "25c2b1ff",
   "metadata": {},
   "outputs": [],
   "source": [
    "def add_binary(a,b):\n",
    "    #your code here\n",
    "    c = a + b\n",
    "    string = ''\n",
    "    while (c != 0):\n",
    "        string += str(c%2)\n",
    "        c //= 2\n",
    "    return string[::-1]"
   ]
  },
  {
   "cell_type": "code",
   "execution_count": 2,
   "id": "5ea639ff",
   "metadata": {},
   "outputs": [
    {
     "data": {
      "text/plain": [
       "'100'"
      ]
     },
     "execution_count": 2,
     "metadata": {},
     "output_type": "execute_result"
    }
   ],
   "source": [
    "add_binary(2,2)"
   ]
  },
  {
   "cell_type": "code",
   "execution_count": null,
   "id": "8aa764a9",
   "metadata": {},
   "outputs": [],
   "source": []
  }
 ],
 "metadata": {
  "kernelspec": {
   "display_name": "Python 3 (ipykernel)",
   "language": "python",
   "name": "python3"
  },
  "language_info": {
   "codemirror_mode": {
    "name": "ipython",
    "version": 3
   },
   "file_extension": ".py",
   "mimetype": "text/x-python",
   "name": "python",
   "nbconvert_exporter": "python",
   "pygments_lexer": "ipython3",
   "version": "3.8.10"
  }
 },
 "nbformat": 4,
 "nbformat_minor": 5
}
